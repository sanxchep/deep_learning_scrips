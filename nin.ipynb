{
 "cells": [
  {
   "cell_type": "code",
   "id": "initial_id",
   "metadata": {
    "collapsed": true,
    "ExecuteTime": {
     "end_time": "2024-07-07T18:20:05.879456Z",
     "start_time": "2024-07-07T18:20:04.762891Z"
    }
   },
   "source": [
    "import torch\n",
    "import torch.nn as nn\n",
    "import torch.optim as optim\n",
    "from torchvision import datasets, transforms\n",
    "import matplotlib.pyplot as plt\n",
    "from datetime import datetime"
   ],
   "outputs": [],
   "execution_count": 1
  },
  {
   "metadata": {
    "ExecuteTime": {
     "end_time": "2024-07-07T18:20:05.884467Z",
     "start_time": "2024-07-07T18:20:05.880384Z"
    }
   },
   "cell_type": "code",
   "source": [
    "class NIN(nn.Module):\n",
    "    def __init__(self, num_classes=10):\n",
    "        super(NIN, self).__init__()\n",
    "        self.mlpconv1 = nn.Sequential(\n",
    "            nn.Conv2d(3, 192, kernel_size=5, padding=2),\n",
    "            nn.ReLU(inplace=True),\n",
    "            nn.Conv2d(192, 160, kernel_size=1),\n",
    "            nn.ReLU(inplace=True),\n",
    "            nn.Conv2d(160, 96, kernel_size=1),\n",
    "            nn.ReLU(inplace=True),\n",
    "            nn.MaxPool2d(kernel_size=3, stride=2, padding=1)\n",
    "        )\n",
    "        self.mlpconv2 = nn.Sequential(\n",
    "            nn.Conv2d(96, 192, kernel_size=5, padding=2),\n",
    "            nn.ReLU(inplace=True),\n",
    "            nn.Conv2d(192, 192, kernel_size=1),\n",
    "            nn.ReLU(inplace=True),\n",
    "            nn.Conv2d(192, 192, kernel_size=1),\n",
    "            nn.ReLU(inplace=True),\n",
    "            nn.AvgPool2d(kernel_size=3, stride=2, padding=1)\n",
    "        )\n",
    "        self.mlpconv3 = nn.Sequential(\n",
    "            nn.Conv2d(192, 192, kernel_size=3, padding=1),\n",
    "            nn.ReLU(inplace=True),\n",
    "            nn.Conv2d(192, 192, kernel_size=1),\n",
    "            nn.ReLU(inplace=True),\n",
    "            nn.Conv2d(192, num_classes, kernel_size=1),\n",
    "            nn.ReLU(inplace=True),\n",
    "            nn.AvgPool2d(kernel_size=8, stride=1)\n",
    "        )\n",
    "        self.dropout = nn.Dropout(0.5)\n",
    "\n",
    "    def forward(self, x):\n",
    "        x = self.mlpconv1(x)\n",
    "        x = self.dropout(x)\n",
    "        x = self.mlpconv2(x)\n",
    "        x = self.dropout(x)\n",
    "        x = self.mlpconv3(x)\n",
    "        x = x.view(x.size(0), -1)\n",
    "        return x"
   ],
   "id": "835fc94dbcb6a14d",
   "outputs": [],
   "execution_count": 2
  },
  {
   "metadata": {
    "ExecuteTime": {
     "end_time": "2024-07-07T18:20:05.897176Z",
     "start_time": "2024-07-07T18:20:05.885218Z"
    }
   },
   "cell_type": "code",
   "source": [
    "transform = transforms.Compose([\n",
    "    transforms.Resize(32),\n",
    "    transforms.ToTensor(),\n",
    "    transforms.Normalize((0.4914, 0.4822, 0.4465), (0.2023, 0.1994, 0.2010))\n",
    "])"
   ],
   "id": "180677ef29ecac29",
   "outputs": [],
   "execution_count": 3
  },
  {
   "metadata": {
    "ExecuteTime": {
     "end_time": "2024-07-07T18:20:06.768924Z",
     "start_time": "2024-07-07T18:20:05.898678Z"
    }
   },
   "cell_type": "code",
   "source": [
    "train_dataset = datasets.CIFAR10(root='./data', train=True, download=True, transform=transform)\n",
    "test_dataset = datasets.CIFAR10(root='./data', train=False, download=True, transform=transform)\n",
    "\n",
    "train_loader = torch.utils.data.DataLoader(train_dataset, batch_size=64, shuffle=True)\n",
    "test_loader = torch.utils.data.DataLoader(test_dataset, batch_size=1000, shuffle=False)\n"
   ],
   "id": "2bcd258907fec840",
   "outputs": [
    {
     "name": "stdout",
     "output_type": "stream",
     "text": [
      "Files already downloaded and verified\n",
      "Files already downloaded and verified\n"
     ]
    }
   ],
   "execution_count": 4
  },
  {
   "metadata": {
    "ExecuteTime": {
     "end_time": "2024-07-07T18:20:06.834521Z",
     "start_time": "2024-07-07T18:20:06.769465Z"
    }
   },
   "cell_type": "code",
   "source": [
    "device = torch.device(\"cuda\" if torch.cuda.is_available() else \"cpu\")\n",
    "model = NIN(num_classes=10).to(device)\n",
    "criterion = nn.CrossEntropyLoss()\n",
    "optimizer = optim.Adam(model.parameters(), lr=0.001)"
   ],
   "id": "a878555bea3cef37",
   "outputs": [],
   "execution_count": 5
  },
  {
   "metadata": {
    "ExecuteTime": {
     "end_time": "2024-07-07T18:20:06.838270Z",
     "start_time": "2024-07-07T18:20:06.835097Z"
    }
   },
   "cell_type": "code",
   "source": "model",
   "id": "ac880e3ad9d132ad",
   "outputs": [
    {
     "data": {
      "text/plain": [
       "NIN(\n",
       "  (mlpconv1): Sequential(\n",
       "    (0): Conv2d(3, 192, kernel_size=(5, 5), stride=(1, 1), padding=(2, 2))\n",
       "    (1): ReLU(inplace=True)\n",
       "    (2): Conv2d(192, 160, kernel_size=(1, 1), stride=(1, 1))\n",
       "    (3): ReLU(inplace=True)\n",
       "    (4): Conv2d(160, 96, kernel_size=(1, 1), stride=(1, 1))\n",
       "    (5): ReLU(inplace=True)\n",
       "    (6): MaxPool2d(kernel_size=3, stride=2, padding=1, dilation=1, ceil_mode=False)\n",
       "  )\n",
       "  (mlpconv2): Sequential(\n",
       "    (0): Conv2d(96, 192, kernel_size=(5, 5), stride=(1, 1), padding=(2, 2))\n",
       "    (1): ReLU(inplace=True)\n",
       "    (2): Conv2d(192, 192, kernel_size=(1, 1), stride=(1, 1))\n",
       "    (3): ReLU(inplace=True)\n",
       "    (4): Conv2d(192, 192, kernel_size=(1, 1), stride=(1, 1))\n",
       "    (5): ReLU(inplace=True)\n",
       "    (6): AvgPool2d(kernel_size=3, stride=2, padding=1)\n",
       "  )\n",
       "  (mlpconv3): Sequential(\n",
       "    (0): Conv2d(192, 192, kernel_size=(3, 3), stride=(1, 1), padding=(1, 1))\n",
       "    (1): ReLU(inplace=True)\n",
       "    (2): Conv2d(192, 192, kernel_size=(1, 1), stride=(1, 1))\n",
       "    (3): ReLU(inplace=True)\n",
       "    (4): Conv2d(192, 10, kernel_size=(1, 1), stride=(1, 1))\n",
       "    (5): ReLU(inplace=True)\n",
       "    (6): AvgPool2d(kernel_size=8, stride=1, padding=0)\n",
       "  )\n",
       "  (dropout): Dropout(p=0.5, inplace=False)\n",
       ")"
      ]
     },
     "execution_count": 6,
     "metadata": {},
     "output_type": "execute_result"
    }
   ],
   "execution_count": 6
  },
  {
   "metadata": {
    "ExecuteTime": {
     "end_time": "2024-07-07T18:43:50.832938Z",
     "start_time": "2024-07-07T18:20:06.838792Z"
    }
   },
   "cell_type": "code",
   "source": [
    "num_epochs = 100\n",
    "train_losses = []\n",
    "\n",
    "for epoch in range(num_epochs):\n",
    "    model.train()\n",
    "    running_loss = 0.0\n",
    "    for data, target in train_loader:\n",
    "        data, target = data.to(device), target.to(device)\n",
    "        optimizer.zero_grad()\n",
    "        outputs = model(data)\n",
    "        loss = criterion(outputs, target)\n",
    "        loss.backward()\n",
    "        optimizer.step()\n",
    "        running_loss += loss.item()\n",
    "\n",
    "    average_loss = running_loss / len(train_loader)\n",
    "    train_losses.append(average_loss)\n",
    "    print(f\"Epoch [{epoch+1}/{num_epochs}], Loss: {average_loss:.4f}\")"
   ],
   "id": "d923692f00db553e",
   "outputs": [
    {
     "name": "stdout",
     "output_type": "stream",
     "text": [
      "Epoch [1/100], Loss: 2.2395\n",
      "Epoch [2/100], Loss: 2.1643\n",
      "Epoch [3/100], Loss: 2.1144\n",
      "Epoch [4/100], Loss: 1.9463\n",
      "Epoch [5/100], Loss: 1.7612\n",
      "Epoch [6/100], Loss: 1.6758\n",
      "Epoch [7/100], Loss: 1.6132\n",
      "Epoch [8/100], Loss: 1.5655\n",
      "Epoch [9/100], Loss: 1.5133\n",
      "Epoch [10/100], Loss: 1.3854\n",
      "Epoch [11/100], Loss: 1.3135\n",
      "Epoch [12/100], Loss: 1.2711\n",
      "Epoch [13/100], Loss: 1.2263\n",
      "Epoch [14/100], Loss: 1.2032\n",
      "Epoch [15/100], Loss: 1.0838\n",
      "Epoch [16/100], Loss: 1.0152\n",
      "Epoch [17/100], Loss: 0.9859\n",
      "Epoch [18/100], Loss: 0.9573\n",
      "Epoch [19/100], Loss: 0.9362\n",
      "Epoch [20/100], Loss: 0.9173\n",
      "Epoch [21/100], Loss: 0.8995\n",
      "Epoch [22/100], Loss: 0.8829\n",
      "Epoch [23/100], Loss: 0.8672\n",
      "Epoch [24/100], Loss: 0.8556\n",
      "Epoch [25/100], Loss: 0.8443\n",
      "Epoch [26/100], Loss: 0.8292\n",
      "Epoch [27/100], Loss: 0.8231\n",
      "Epoch [28/100], Loss: 0.8121\n",
      "Epoch [29/100], Loss: 0.8008\n",
      "Epoch [30/100], Loss: 0.7934\n",
      "Epoch [31/100], Loss: 0.7874\n",
      "Epoch [32/100], Loss: 0.7761\n",
      "Epoch [33/100], Loss: 0.7742\n",
      "Epoch [34/100], Loss: 0.7672\n",
      "Epoch [35/100], Loss: 0.7645\n",
      "Epoch [36/100], Loss: 0.7549\n",
      "Epoch [37/100], Loss: 0.7506\n",
      "Epoch [38/100], Loss: 0.7416\n",
      "Epoch [39/100], Loss: 0.7360\n",
      "Epoch [40/100], Loss: 0.7343\n",
      "Epoch [41/100], Loss: 0.7314\n",
      "Epoch [42/100], Loss: 0.7273\n",
      "Epoch [43/100], Loss: 0.7206\n",
      "Epoch [44/100], Loss: 0.7172\n",
      "Epoch [45/100], Loss: 0.7167\n",
      "Epoch [46/100], Loss: 0.7080\n",
      "Epoch [47/100], Loss: 0.7062\n",
      "Epoch [48/100], Loss: 0.7162\n",
      "Epoch [49/100], Loss: 0.7008\n",
      "Epoch [50/100], Loss: 0.6995\n",
      "Epoch [51/100], Loss: 0.6935\n",
      "Epoch [52/100], Loss: 0.6954\n",
      "Epoch [53/100], Loss: 0.6892\n",
      "Epoch [54/100], Loss: 0.6939\n",
      "Epoch [55/100], Loss: 0.6895\n",
      "Epoch [56/100], Loss: 0.6836\n",
      "Epoch [57/100], Loss: 0.6811\n",
      "Epoch [58/100], Loss: 0.6802\n",
      "Epoch [59/100], Loss: 0.6656\n",
      "Epoch [60/100], Loss: 0.5004\n",
      "Epoch [61/100], Loss: 0.4829\n",
      "Epoch [62/100], Loss: 0.4716\n",
      "Epoch [63/100], Loss: 0.4709\n",
      "Epoch [64/100], Loss: 0.4646\n",
      "Epoch [65/100], Loss: 0.4638\n",
      "Epoch [66/100], Loss: 0.4587\n",
      "Epoch [67/100], Loss: 0.4585\n",
      "Epoch [68/100], Loss: 0.4552\n",
      "Epoch [69/100], Loss: 0.4478\n",
      "Epoch [70/100], Loss: 0.4526\n",
      "Epoch [71/100], Loss: 0.4429\n",
      "Epoch [72/100], Loss: 0.4433\n",
      "Epoch [73/100], Loss: 0.4399\n",
      "Epoch [74/100], Loss: 0.4410\n",
      "Epoch [75/100], Loss: 0.4393\n",
      "Epoch [76/100], Loss: 0.4405\n",
      "Epoch [77/100], Loss: 0.4318\n",
      "Epoch [78/100], Loss: 0.4316\n",
      "Epoch [79/100], Loss: 0.4317\n",
      "Epoch [80/100], Loss: 0.4311\n",
      "Epoch [81/100], Loss: 0.4325\n",
      "Epoch [82/100], Loss: 0.4289\n",
      "Epoch [83/100], Loss: 0.4208\n",
      "Epoch [84/100], Loss: 0.4240\n",
      "Epoch [85/100], Loss: 0.4268\n",
      "Epoch [86/100], Loss: 0.4227\n",
      "Epoch [87/100], Loss: 0.4219\n",
      "Epoch [88/100], Loss: 0.4211\n",
      "Epoch [89/100], Loss: 0.4214\n",
      "Epoch [90/100], Loss: 0.4172\n",
      "Epoch [91/100], Loss: 0.4153\n",
      "Epoch [92/100], Loss: 0.4167\n",
      "Epoch [93/100], Loss: 0.4195\n",
      "Epoch [94/100], Loss: 0.4166\n",
      "Epoch [95/100], Loss: 0.4171\n",
      "Epoch [96/100], Loss: 0.4107\n",
      "Epoch [97/100], Loss: 0.4109\n",
      "Epoch [98/100], Loss: 0.4113\n",
      "Epoch [99/100], Loss: 0.4063\n",
      "Epoch [100/100], Loss: 0.4102\n"
     ]
    }
   ],
   "execution_count": 7
  },
  {
   "metadata": {
    "ExecuteTime": {
     "end_time": "2024-07-07T18:43:50.885710Z",
     "start_time": "2024-07-07T18:43:50.833576Z"
    }
   },
   "cell_type": "code",
   "source": [
    "plt.plot(train_losses, label='Training Loss')\n",
    "plt.xlabel('Epoch')\n",
    "plt.ylabel('Loss')\n",
    "plt.legend()\n",
    "plt.show()"
   ],
   "id": "7c5ab11e2b215211",
   "outputs": [
    {
     "data": {
      "text/plain": [
       "<Figure size 640x480 with 1 Axes>"
      ],
      "image/png": "[encoded data removed]"
     },
     "metadata": {},
     "output_type": "display_data"
    }
   ],
   "execution_count": 8
  },
  {
   "metadata": {
    "ExecuteTime": {
     "end_time": "2024-07-07T18:43:52.368231Z",
     "start_time": "2024-07-07T18:43:50.886295Z"
    }
   },
   "cell_type": "code",
   "source": [
    "model.eval()\n",
    "correct = 0\n",
    "total = 0\n",
    "with torch.no_grad():\n",
    "    for data, target in test_loader:\n",
    "        data, target = data.to(device), target.to(device)\n",
    "        outputs = model(data)\n",
    "        _, predicted = torch.max(outputs.data, 1)\n",
    "        total += target.size(0)\n",
    "        correct += (predicted == target).sum().item()\n",
    "\n",
    "print(f'Accuracy of the model on the test images: {100 * correct / total:.2f}%')"
   ],
   "id": "e31d7d463190845d",
   "outputs": [
    {
     "name": "stdout",
     "output_type": "stream",
     "text": [
      "Accuracy of the model on the test images: 73.94%\n"
     ]
    }
   ],
   "execution_count": 9
  },
  {
   "metadata": {
    "ExecuteTime": {
     "end_time": "2024-07-07T18:43:52.375962Z",
     "start_time": "2024-07-07T18:43:52.369392Z"
    }
   },
   "cell_type": "code",
   "source": [
    "# save model\n",
    "torch.save(model.state_dict(), f'saved_models/nin_cifar10_{datetime.now().strftime(\"%Y%m%d%H%M%S\")}.pth')"
   ],
   "id": "503c0950966654c",
   "outputs": [],
   "execution_count": 10
  },
  {
   "metadata": {
    "ExecuteTime": {
     "end_time": "2024-07-07T18:43:52.378166Z",
     "start_time": "2024-07-07T18:43:52.376764Z"
    }
   },
   "cell_type": "code",
   "source": "",
   "id": "a5b2d89b7d4def29",
   "outputs": [],
   "execution_count": 10
  }
 ],
 "metadata": {
  "kernelspec": {
   "display_name": "Python 3",
   "language": "python",
   "name": "python3"
  },
  "language_info": {
   "codemirror_mode": {
    "name": "ipython",
    "version": 2
   },
   "file_extension": ".py",
   "mimetype": "text/x-python",
   "name": "python",
   "nbconvert_exporter": "python",
   "pygments_lexer": "ipython2",
   "version": "2.7.6"
  }
 },
 "nbformat": 4,
 "nbformat_minor": 5
}
