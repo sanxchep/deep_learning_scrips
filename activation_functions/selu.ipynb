{
 "cells": [
  {
   "cell_type": "code",
   "id": "initial_id",
   "metadata": {
    "collapsed": true,
    "ExecuteTime": {
     "end_time": "2024-07-23T23:54:25.936764Z",
     "start_time": "2024-07-23T23:54:25.934094Z"
    }
   },
   "source": [
    "import numpy as np\n",
    "\n",
    "class SELU:\n",
    "    def __init__(self, alpha=1.673263, scale=1.05070):\n",
    "        self.alpha = alpha\n",
    "        self.scale = scale\n",
    "\n",
    "    def forward(self, input_tensor):\n",
    "        return self.scale * np.where(input_tensor > 0, input_tensor, self.alpha * (np.exp(input_tensor) - 1))\n",
    "\n",
    "    def backward(self, error_tensor):\n",
    "        return self.scale * np.where(error_tensor > 0, 1, self.alpha * np.exp(error_tensor))"
   ],
   "outputs": [],
   "execution_count": 5
  },
  {
   "metadata": {
    "ExecuteTime": {
     "end_time": "2024-07-23T23:54:26.114795Z",
     "start_time": "2024-07-23T23:54:26.112337Z"
    }
   },
   "cell_type": "code",
   "source": "x = np.array([1, 2, 3, 4, 5])",
   "id": "3616ca76ef1de49b",
   "outputs": [],
   "execution_count": 6
  },
  {
   "metadata": {
    "ExecuteTime": {
     "end_time": "2024-07-23T23:54:26.469012Z",
     "start_time": "2024-07-23T23:54:26.467062Z"
    }
   },
   "cell_type": "code",
   "source": "selu = SELU()",
   "id": "14997bd72239ab75",
   "outputs": [],
   "execution_count": 7
  },
  {
   "metadata": {
    "ExecuteTime": {
     "end_time": "2024-07-23T23:54:26.926547Z",
     "start_time": "2024-07-23T23:54:26.921557Z"
    }
   },
   "cell_type": "code",
   "source": "selu.forward(x)",
   "id": "de66370d17c0ce9a",
   "outputs": [
    {
     "data": {
      "text/plain": [
       "array([1.0507, 2.1014, 3.1521, 4.2028, 5.2535])"
      ]
     },
     "execution_count": 8,
     "metadata": {},
     "output_type": "execute_result"
    }
   ],
   "execution_count": 8
  },
  {
   "metadata": {
    "ExecuteTime": {
     "end_time": "2024-07-23T23:54:31.422884Z",
     "start_time": "2024-07-23T23:54:31.419928Z"
    }
   },
   "cell_type": "code",
   "source": "selu.backward(x)",
   "id": "5360daff36112376",
   "outputs": [
    {
     "data": {
      "text/plain": [
       "array([1.0507, 1.0507, 1.0507, 1.0507, 1.0507])"
      ]
     },
     "execution_count": 9,
     "metadata": {},
     "output_type": "execute_result"
    }
   ],
   "execution_count": 9
  },
  {
   "metadata": {},
   "cell_type": "code",
   "outputs": [],
   "execution_count": null,
   "source": "",
   "id": "6b6e9218ad8bf562"
  }
 ],
 "metadata": {
  "kernelspec": {
   "display_name": "Python 3",
   "language": "python",
   "name": "python3"
  },
  "language_info": {
   "codemirror_mode": {
    "name": "ipython",
    "version": 2
   },
   "file_extension": ".py",
   "mimetype": "text/x-python",
   "name": "python",
   "nbconvert_exporter": "python",
   "pygments_lexer": "ipython2",
   "version": "2.7.6"
  }
 },
 "nbformat": 4,
 "nbformat_minor": 5
}
