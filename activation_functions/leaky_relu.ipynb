{
 "cells": [
  {
   "cell_type": "code",
   "id": "initial_id",
   "metadata": {
    "collapsed": true,
    "ExecuteTime": {
     "end_time": "2024-07-23T23:12:16.135165Z",
     "start_time": "2024-07-23T23:12:16.132615Z"
    }
   },
   "source": [
    "import numpy as np\n",
    "\n",
    "class LeakyReLU:\n",
    "    def __init__(self, alpha=0.01):\n",
    "        self.alpha = alpha\n",
    "        self.mask = None\n",
    "\n",
    "    def forward(self, input_tensor):\n",
    "        self.mask = (input_tensor <= 0)\n",
    "        return np.where(\n",
    "            input_tensor > 0, \n",
    "            input_tensor, \n",
    "            input_tensor * self.alpha\n",
    "        )\n",
    "\n",
    "    def backward(self, error_tensor):\n",
    "        return np.where(\n",
    "            error_tensor > 0, \n",
    "            1, \n",
    "            self.alpha\n",
    "        )"
   ],
   "outputs": [],
   "execution_count": 19
  },
  {
   "metadata": {
    "ExecuteTime": {
     "end_time": "2024-07-23T23:12:16.276829Z",
     "start_time": "2024-07-23T23:12:16.274449Z"
    }
   },
   "cell_type": "code",
   "source": [
    "x = np.array([[1.0, -4], [-15, 3.0]])\n",
    "print(x)"
   ],
   "id": "df6171871f9e746c",
   "outputs": [
    {
     "name": "stdout",
     "output_type": "stream",
     "text": [
      "[[  1.  -4.]\n",
      " [-15.   3.]]\n"
     ]
    }
   ],
   "execution_count": 20
  },
  {
   "metadata": {
    "ExecuteTime": {
     "end_time": "2024-07-23T23:12:16.448825Z",
     "start_time": "2024-07-23T23:12:16.446692Z"
    }
   },
   "cell_type": "code",
   "source": "lr = LeakyReLU()",
   "id": "1d4589fd18df1e22",
   "outputs": [],
   "execution_count": 21
  },
  {
   "metadata": {
    "ExecuteTime": {
     "end_time": "2024-07-23T23:12:16.961108Z",
     "start_time": "2024-07-23T23:12:16.958595Z"
    }
   },
   "cell_type": "code",
   "source": "print(lr.forward(x))",
   "id": "f0e02a7166d1ce31",
   "outputs": [
    {
     "name": "stdout",
     "output_type": "stream",
     "text": [
      "[[ 1.   -0.04]\n",
      " [-0.15  3.  ]]\n"
     ]
    }
   ],
   "execution_count": 22
  },
  {
   "metadata": {
    "ExecuteTime": {
     "end_time": "2024-07-23T23:10:46.919637Z",
     "start_time": "2024-07-23T23:10:46.916706Z"
    }
   },
   "cell_type": "code",
   "source": "print(lr.backward(x))",
   "id": "2409ca7a39ba13c",
   "outputs": [
    {
     "name": "stdout",
     "output_type": "stream",
     "text": [
      "[[1.   0.01]\n",
      " [0.01 1.  ]]\n"
     ]
    }
   ],
   "execution_count": 18
  },
  {
   "metadata": {},
   "cell_type": "code",
   "outputs": [],
   "execution_count": null,
   "source": "",
   "id": "9d7602eae11cf6c4"
  }
 ],
 "metadata": {
  "kernelspec": {
   "display_name": "Python 3",
   "language": "python",
   "name": "python3"
  },
  "language_info": {
   "codemirror_mode": {
    "name": "ipython",
    "version": 2
   },
   "file_extension": ".py",
   "mimetype": "text/x-python",
   "name": "python",
   "nbconvert_exporter": "python",
   "pygments_lexer": "ipython2",
   "version": "2.7.6"
  }
 },
 "nbformat": 4,
 "nbformat_minor": 5
}
