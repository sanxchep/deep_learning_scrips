{
 "cells": [
  {
   "cell_type": "code",
   "id": "initial_id",
   "metadata": {
    "collapsed": true,
    "ExecuteTime": {
     "end_time": "2024-07-23T23:56:59.031752Z",
     "start_time": "2024-07-23T23:56:59.002546Z"
    }
   },
   "source": [
    "import numpy as np\n",
    "\n",
    "class Softplus:\n",
    "    def __init__(self):\n",
    "        self.out = None\n",
    "\n",
    "    def forward(self, input_tensor):\n",
    "        self.out = np.log(1 + np.exp(input_tensor))\n",
    "        return self.out\n",
    "\n",
    "    def backward(self, error_tensor):\n",
    "        dx = error_tensor * 1 / (1 + np.exp(-self.out))\n",
    "        return dx"
   ],
   "outputs": [],
   "execution_count": 1
  },
  {
   "metadata": {},
   "cell_type": "code",
   "source": "x = np.array([1.0, 2.0, 3.0])",
   "id": "449ce58145d35ce8",
   "outputs": [],
   "execution_count": 2
  },
  {
   "metadata": {
    "ExecuteTime": {
     "end_time": "2024-07-23T23:57:03.746546Z",
     "start_time": "2024-07-23T23:57:03.744329Z"
    }
   },
   "cell_type": "code",
   "source": "softplus = Softplus()",
   "id": "c1cadfd32433d5c",
   "outputs": [],
   "execution_count": 3
  },
  {
   "metadata": {
    "ExecuteTime": {
     "end_time": "2024-07-23T23:57:05.202365Z",
     "start_time": "2024-07-23T23:57:05.198146Z"
    }
   },
   "cell_type": "code",
   "source": "softplus.forward(x)",
   "id": "c6a7b8f9839dabc7",
   "outputs": [
    {
     "data": {
      "text/plain": [
       "array([1.31326169, 2.12692801, 3.04858735])"
      ]
     },
     "execution_count": 4,
     "metadata": {},
     "output_type": "execute_result"
    }
   ],
   "execution_count": 4
  },
  {
   "metadata": {
    "ExecuteTime": {
     "end_time": "2024-07-23T23:57:06.453459Z",
     "start_time": "2024-07-23T23:57:06.450729Z"
    }
   },
   "cell_type": "code",
   "source": "softplus.backward(1)",
   "id": "3c15bbaa4a5237e2",
   "outputs": [
    {
     "data": {
      "text/plain": [
       "array([0.78805844, 0.89349302, 0.9547215 ])"
      ]
     },
     "execution_count": 5,
     "metadata": {},
     "output_type": "execute_result"
    }
   ],
   "execution_count": 5
  },
  {
   "metadata": {},
   "cell_type": "code",
   "outputs": [],
   "execution_count": null,
   "source": "",
   "id": "394e19b3caedfaf0"
  }
 ],
 "metadata": {
  "kernelspec": {
   "display_name": "Python 3",
   "language": "python",
   "name": "python3"
  },
  "language_info": {
   "codemirror_mode": {
    "name": "ipython",
    "version": 2
   },
   "file_extension": ".py",
   "mimetype": "text/x-python",
   "name": "python",
   "nbconvert_exporter": "python",
   "pygments_lexer": "ipython2",
   "version": "2.7.6"
  }
 },
 "nbformat": 4,
 "nbformat_minor": 5
}
