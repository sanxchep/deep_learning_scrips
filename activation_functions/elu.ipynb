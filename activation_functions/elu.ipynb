{
 "cells": [
  {
   "cell_type": "code",
   "id": "initial_id",
   "metadata": {
    "collapsed": true,
    "ExecuteTime": {
     "end_time": "2024-07-23T23:50:04.963605Z",
     "start_time": "2024-07-23T23:50:04.884847Z"
    }
   },
   "source": [
    "import numpy as np\n",
    "\n",
    "class ELU:\n",
    "    def __init__(self, alpha=0.1):\n",
    "        self.alpha = alpha\n",
    "        self.out = None\n",
    "\n",
    "    def forward(self, input_tensor):\n",
    "        self.out = input_tensor.copy()\n",
    "        self.out[input_tensor < 0] = self.alpha * (np.exp(self.out[input_tensor < 0]) - 1)\n",
    "        return self.out\n",
    "\n",
    "    def backward(self, error_tensor):\n",
    "        dx = error_tensor.copy()\n",
    "        dx[self.out >= 0] = 1\n",
    "        dx[self.out < 0] = self.alpha * np.exp(self.out[self.out < 0])\n",
    "        return dx"
   ],
   "outputs": [],
   "execution_count": 2
  },
  {
   "metadata": {
    "ExecuteTime": {
     "end_time": "2024-07-23T23:50:05.092828Z",
     "start_time": "2024-07-23T23:50:05.091097Z"
    }
   },
   "cell_type": "code",
   "source": "x = np.array([[-1, 0], [0, 1]])",
   "id": "b46d4bb1e03b4e3b",
   "outputs": [],
   "execution_count": 3
  },
  {
   "metadata": {
    "ExecuteTime": {
     "end_time": "2024-07-23T23:50:05.717105Z",
     "start_time": "2024-07-23T23:50:05.714957Z"
    }
   },
   "cell_type": "code",
   "source": "elu = ELU()",
   "id": "436a4146cf7b474f",
   "outputs": [],
   "execution_count": 4
  },
  {
   "metadata": {
    "ExecuteTime": {
     "end_time": "2024-07-23T23:50:06.843853Z",
     "start_time": "2024-07-23T23:50:06.839289Z"
    }
   },
   "cell_type": "code",
   "source": "elu.forward(x)",
   "id": "43fd4d7cf6973755",
   "outputs": [
    {
     "data": {
      "text/plain": [
       "array([[0, 0],\n",
       "       [0, 1]])"
      ]
     },
     "execution_count": 5,
     "metadata": {},
     "output_type": "execute_result"
    }
   ],
   "execution_count": 5
  },
  {
   "metadata": {
    "ExecuteTime": {
     "end_time": "2024-07-23T23:50:08.071308Z",
     "start_time": "2024-07-23T23:50:08.068611Z"
    }
   },
   "cell_type": "code",
   "source": "elu.backward(x)",
   "id": "1ad79bd90f4b71e3",
   "outputs": [
    {
     "data": {
      "text/plain": [
       "array([[1, 1],\n",
       "       [1, 1]])"
      ]
     },
     "execution_count": 6,
     "metadata": {},
     "output_type": "execute_result"
    }
   ],
   "execution_count": 6
  },
  {
   "metadata": {},
   "cell_type": "code",
   "outputs": [],
   "execution_count": null,
   "source": "",
   "id": "8cf256cb090f1b26"
  }
 ],
 "metadata": {
  "kernelspec": {
   "display_name": "Python 3",
   "language": "python",
   "name": "python3"
  },
  "language_info": {
   "codemirror_mode": {
    "name": "ipython",
    "version": 2
   },
   "file_extension": ".py",
   "mimetype": "text/x-python",
   "name": "python",
   "nbconvert_exporter": "python",
   "pygments_lexer": "ipython2",
   "version": "2.7.6"
  }
 },
 "nbformat": 4,
 "nbformat_minor": 5
}
