{
 "cells": [
  {
   "cell_type": "code",
   "id": "initial_id",
   "metadata": {
    "collapsed": true,
    "ExecuteTime": {
     "end_time": "2024-07-23T23:47:40.588267Z",
     "start_time": "2024-07-23T23:47:40.524207Z"
    }
   },
   "source": [
    "import numpy as np\n",
    "\n",
    "class Tanh:\n",
    "    def __init__(self):\n",
    "        self.out = None\n",
    "\n",
    "    def forward(self, input_tensor):\n",
    "        out = np.tanh(input_tensor)\n",
    "        self.out = out\n",
    "        return out\n",
    "\n",
    "    def backward(self, error_tensor):\n",
    "        dx = error_tensor * (1 - self.out ** 2)\n",
    "        return dx"
   ],
   "outputs": [],
   "execution_count": 2
  },
  {
   "metadata": {
    "ExecuteTime": {
     "end_time": "2024-07-23T23:47:40.693097Z",
     "start_time": "2024-07-23T23:47:40.691007Z"
    }
   },
   "cell_type": "code",
   "source": "x = np.array([[1, 2], [-1, -2]])",
   "id": "50ab20b7e489e9fe",
   "outputs": [],
   "execution_count": 3
  },
  {
   "metadata": {
    "ExecuteTime": {
     "end_time": "2024-07-23T23:47:44.773621Z",
     "start_time": "2024-07-23T23:47:44.771741Z"
    }
   },
   "cell_type": "code",
   "source": "tanh = Tanh()",
   "id": "15b70562fc918452",
   "outputs": [],
   "execution_count": 4
  },
  {
   "metadata": {
    "ExecuteTime": {
     "end_time": "2024-07-23T23:47:46.766787Z",
     "start_time": "2024-07-23T23:47:46.763344Z"
    }
   },
   "cell_type": "code",
   "source": "tanh.forward(x)",
   "id": "8cc20500d3dab11e",
   "outputs": [
    {
     "data": {
      "text/plain": [
       "array([[ 0.76159416,  0.96402758],\n",
       "       [-0.76159416, -0.96402758]])"
      ]
     },
     "execution_count": 5,
     "metadata": {},
     "output_type": "execute_result"
    }
   ],
   "execution_count": 5
  },
  {
   "metadata": {
    "ExecuteTime": {
     "end_time": "2024-07-23T23:47:50.587950Z",
     "start_time": "2024-07-23T23:47:50.584915Z"
    }
   },
   "cell_type": "code",
   "source": "tanh.backward(np.array([[1, 2], [-1, -2]]))",
   "id": "c2f1b7027b957498",
   "outputs": [
    {
     "data": {
      "text/plain": [
       "array([[ 0.41997434,  0.14130165],\n",
       "       [-0.41997434, -0.14130165]])"
      ]
     },
     "execution_count": 6,
     "metadata": {},
     "output_type": "execute_result"
    }
   ],
   "execution_count": 6
  },
  {
   "metadata": {},
   "cell_type": "code",
   "outputs": [],
   "execution_count": null,
   "source": "",
   "id": "47dad879613faa4"
  }
 ],
 "metadata": {
  "kernelspec": {
   "display_name": "Python 3",
   "language": "python",
   "name": "python3"
  },
  "language_info": {
   "codemirror_mode": {
    "name": "ipython",
    "version": 2
   },
   "file_extension": ".py",
   "mimetype": "text/x-python",
   "name": "python",
   "nbconvert_exporter": "python",
   "pygments_lexer": "ipython2",
   "version": "2.7.6"
  }
 },
 "nbformat": 4,
 "nbformat_minor": 5
}
