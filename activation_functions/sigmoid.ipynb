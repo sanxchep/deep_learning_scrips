{
 "cells": [
  {
   "cell_type": "code",
   "id": "initial_id",
   "metadata": {
    "collapsed": true,
    "ExecuteTime": {
     "end_time": "2024-07-23T23:44:49.645562Z",
     "start_time": "2024-07-23T23:44:49.643053Z"
    }
   },
   "source": [
    "import numpy as np\n",
    "\n",
    "class Sigmoid:\n",
    "    def __init__(self):\n",
    "        self.out = None\n",
    "\n",
    "    def forward(self, input_tensor):\n",
    "        out = 1 / (1 + np.exp(-input_tensor))\n",
    "        self.out = out\n",
    "        return out\n",
    "\n",
    "    def backward(self, error_tensor):\n",
    "        dx = error_tensor * (1.0 - self.out) * self.out\n",
    "        return dx"
   ],
   "outputs": [],
   "execution_count": 14
  },
  {
   "metadata": {
    "ExecuteTime": {
     "end_time": "2024-07-23T23:44:49.834692Z",
     "start_time": "2024-07-23T23:44:49.832432Z"
    }
   },
   "cell_type": "code",
   "source": "x = np.array([[1, 2], [3, -1]])",
   "id": "5d080c1700dba89b",
   "outputs": [],
   "execution_count": 15
  },
  {
   "metadata": {
    "ExecuteTime": {
     "end_time": "2024-07-23T23:44:50.010147Z",
     "start_time": "2024-07-23T23:44:50.008173Z"
    }
   },
   "cell_type": "code",
   "source": "sigmoid = Sigmoid()",
   "id": "d6df80c070fade8d",
   "outputs": [],
   "execution_count": 16
  },
  {
   "metadata": {
    "ExecuteTime": {
     "end_time": "2024-07-23T23:44:50.167805Z",
     "start_time": "2024-07-23T23:44:50.164609Z"
    }
   },
   "cell_type": "code",
   "source": "sigmoid.forward(x)",
   "id": "e7fb39c0b1ff3a62",
   "outputs": [
    {
     "data": {
      "text/plain": [
       "array([[0.73105858, 0.88079708],\n",
       "       [0.95257413, 0.26894142]])"
      ]
     },
     "execution_count": 17,
     "metadata": {},
     "output_type": "execute_result"
    }
   ],
   "execution_count": 17
  },
  {
   "metadata": {
    "ExecuteTime": {
     "end_time": "2024-07-23T23:44:50.343029Z",
     "start_time": "2024-07-23T23:44:50.339951Z"
    }
   },
   "cell_type": "code",
   "source": "sigmoid.backward(x)",
   "id": "357bf1cace892d79",
   "outputs": [
    {
     "data": {
      "text/plain": [
       "array([[ 0.19661193,  0.20998717],\n",
       "       [ 0.13552998, -0.19661193]])"
      ]
     },
     "execution_count": 18,
     "metadata": {},
     "output_type": "execute_result"
    }
   ],
   "execution_count": 18
  },
  {
   "metadata": {
    "ExecuteTime": {
     "end_time": "2024-07-23T23:44:51.339916Z",
     "start_time": "2024-07-23T23:44:51.338239Z"
    }
   },
   "cell_type": "code",
   "source": "",
   "id": "30f5c14ce3f7b60f",
   "outputs": [],
   "execution_count": 18
  },
  {
   "metadata": {},
   "cell_type": "code",
   "outputs": [],
   "execution_count": null,
   "source": "",
   "id": "58fdaea762bcbc48"
  }
 ],
 "metadata": {
  "kernelspec": {
   "display_name": "Python 3",
   "language": "python",
   "name": "python3"
  },
  "language_info": {
   "codemirror_mode": {
    "name": "ipython",
    "version": 2
   },
   "file_extension": ".py",
   "mimetype": "text/x-python",
   "name": "python",
   "nbconvert_exporter": "python",
   "pygments_lexer": "ipython2",
   "version": "2.7.6"
  }
 },
 "nbformat": 4,
 "nbformat_minor": 5
}
