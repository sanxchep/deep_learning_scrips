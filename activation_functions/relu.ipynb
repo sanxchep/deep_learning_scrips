{
 "cells": [
  {
   "cell_type": "code",
   "id": "initial_id",
   "metadata": {
    "collapsed": true,
    "ExecuteTime": {
     "end_time": "2024-07-23T23:42:38.089221Z",
     "start_time": "2024-07-23T23:42:38.087014Z"
    }
   },
   "source": [
    "import numpy as np\n",
    "\n",
    "class Relu:\n",
    "    def __init__(self):\n",
    "        self.mask = None\n",
    "\n",
    "    def forward(self, input_tensor):\n",
    "        self.mask = (input_tensor <= 0)\n",
    "        out = input_tensor.copy()\n",
    "        out[self.mask] = 0\n",
    "\n",
    "        return out\n",
    "\n",
    "    def backward(self, error_tensor):\n",
    "        error_tensor[self.mask] = 0\n",
    "        dx = error_tensor\n",
    "\n",
    "        return dx"
   ],
   "outputs": [],
   "execution_count": 8
  },
  {
   "metadata": {
    "ExecuteTime": {
     "end_time": "2024-07-23T23:42:38.387252Z",
     "start_time": "2024-07-23T23:42:38.385055Z"
    }
   },
   "cell_type": "code",
   "source": "x = np.array([[1.0, -0.5], [-2.0, 3.0]])",
   "id": "16334b9c72d59ee",
   "outputs": [],
   "execution_count": 9
  },
  {
   "metadata": {
    "ExecuteTime": {
     "end_time": "2024-07-23T23:42:38.638252Z",
     "start_time": "2024-07-23T23:42:38.636176Z"
    }
   },
   "cell_type": "code",
   "source": "relu = Relu()",
   "id": "4d3542fd5667e30b",
   "outputs": [],
   "execution_count": 10
  },
  {
   "metadata": {
    "ExecuteTime": {
     "end_time": "2024-07-23T23:42:38.982045Z",
     "start_time": "2024-07-23T23:42:38.979297Z"
    }
   },
   "cell_type": "code",
   "source": "relu.forward(x)",
   "id": "a2be6f5d40c6cd89",
   "outputs": [
    {
     "data": {
      "text/plain": [
       "array([[1., 0.],\n",
       "       [0., 3.]])"
      ]
     },
     "execution_count": 11,
     "metadata": {},
     "output_type": "execute_result"
    }
   ],
   "execution_count": 11
  },
  {
   "metadata": {
    "ExecuteTime": {
     "end_time": "2024-07-23T23:42:39.327119Z",
     "start_time": "2024-07-23T23:42:39.324635Z"
    }
   },
   "cell_type": "code",
   "source": "relu.mask",
   "id": "5daf244eff72752e",
   "outputs": [
    {
     "data": {
      "text/plain": [
       "array([[False,  True],\n",
       "       [ True, False]])"
      ]
     },
     "execution_count": 12,
     "metadata": {},
     "output_type": "execute_result"
    }
   ],
   "execution_count": 12
  },
  {
   "metadata": {
    "ExecuteTime": {
     "end_time": "2024-07-23T23:42:40.276604Z",
     "start_time": "2024-07-23T23:42:40.273748Z"
    }
   },
   "cell_type": "code",
   "source": "relu.backward(x)",
   "id": "bda5ce5f1a711b0a",
   "outputs": [
    {
     "data": {
      "text/plain": [
       "array([[1., 0.],\n",
       "       [0., 3.]])"
      ]
     },
     "execution_count": 13,
     "metadata": {},
     "output_type": "execute_result"
    }
   ],
   "execution_count": 13
  },
  {
   "metadata": {},
   "cell_type": "code",
   "outputs": [],
   "execution_count": null,
   "source": "",
   "id": "b6841e69870a85e0"
  }
 ],
 "metadata": {
  "kernelspec": {
   "display_name": "Python 3",
   "language": "python",
   "name": "python3"
  },
  "language_info": {
   "codemirror_mode": {
    "name": "ipython",
    "version": 2
   },
   "file_extension": ".py",
   "mimetype": "text/x-python",
   "name": "python",
   "nbconvert_exporter": "python",
   "pygments_lexer": "ipython2",
   "version": "2.7.6"
  }
 },
 "nbformat": 4,
 "nbformat_minor": 5
}
